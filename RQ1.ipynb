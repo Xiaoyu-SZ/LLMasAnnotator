{
 "cells": [
  {
   "cell_type": "code",
   "execution_count": 1,
   "metadata": {},
   "outputs": [],
   "source": [
    "import pandas as pd\n",
    "import numpy as np\n",
    "import matplotlib.pyplot as plt\n",
    "import seaborn as sns\n",
    "import matplotlib\n",
    "from collections import Counter\n",
    "import utils\n",
    "from scipy.stats import pearsonr, spearmanr, ttest_ind, ttest_rel\n",
    "from sklearn.metrics import cohen_kappa_score\n",
    "from sklearn.linear_model import LinearRegression\n",
    "from itertools import combinations\n",
    "import random\n",
    "from scipy.stats import f_oneway\n",
    "from statsmodels.formula.api import ols\n",
    "from statsmodels.stats.anova import anova_lm\n",
    "import json\n",
    "plt.rcParams[\"font.family\"] = \"SimHei\"\n",
    "\n",
    "sns.set_context(\"notebook\")\n",
    "sns.set_style(\"ticks\")\n",
    "%matplotlib inline"
   ]
  },
  {
   "cell_type": "code",
   "execution_count": 2,
   "metadata": {},
   "outputs": [],
   "source": [
    "colors = [\"#CD5B4D\", \"#F7CE5F\", \"#4F9F66\"]\n",
    "# snscolors = ['#A93537', '#3D71AB']\n",
    "blue = sns.color_palette(\"Blues\", 5)[-2]\n",
    "red = sns.color_palette(\"Reds\", 5)[-2]\n",
    "\n",
    "def plot_dist(dlist, vlist, label=\"\", offset=0, color=None, hatch=None):\n",
    "    cnt = Counter(dlist)\n",
    "    dist_vec = np.array([cnt[t] for t in vlist], dtype=float)\n",
    "    dist_vec = dist_vec / np.sum(dist_vec)\n",
    "    \n",
    "    plt.bar(np.arange(len(vlist))+offset, dist_vec, width=0.3, color=color, label=label)\n",
    "    if hatch:\n",
    "        plt.bar(np.arange(len(vlist))+offset, dist_vec, width=0.3, color=\"None\", edgecolor='k', hatch=hatch)\n",
    "\n",
    "    plt.legend()\n",
    "    plt.xticks(np.arange(len(vlist)), vlist)\n",
    "    \n",
    "def plot_dist_field(dlist, vlist, label=\"\", offset=0, color=\"r\", colorgroup=\"Reds\"):\n",
    "    cnt = Counter(dlist)\n",
    "    dist_vec = np.array([cnt[t] for t in vlist], dtype=float)\n",
    "    dist_vec = dist_vec / np.sum(dist_vec)\n",
    "    with sns.color_palette(colorgroup, len(vlist)) as tcolor:\n",
    "        for ti, tv in enumerate(dist_vec):\n",
    "            plt.bar(np.array([ti])+offset, [tv], width=1., label=str(ti+1), color=tcolor[ti])\n",
    "#     plt.legend()\n",
    "    plt.xticks(np.arange(len(vlist)), vlist)\n",
    "    \n",
    "def calculate_pvalues(df, fun=pearsonr):\n",
    "    df = df.dropna()._get_numeric_data()\n",
    "    dfcols = pd.DataFrame(columns=df.columns)\n",
    "    pvalues = dfcols.transpose().join(dfcols, how='outer')\n",
    "    for r in df.columns:\n",
    "        for c in df.columns:\n",
    "            pvalues[r][c] = round(fun(df[r], df[c])[1], 4)\n",
    "    return pvalues\n",
    "\n",
    "def ifdiff(dlist1, dlist2, fun=ttest_ind):\n",
    "    pv = ttest_ind(dlist1.dropna(), dlist2.dropna())[1]\n",
    "    return pv\n",
    "\n",
    "def stats(dlist):\n",
    "    return np.mean(dlist), np.var(dlist), np.max(dlist)\n",
    "\n",
    "def plot_heatmap(tmat, axis=0, reverse_y=True, xticks=range(1, 6), yticks=range(1, 6), vmax=None):\n",
    "    # axis=0: 按列归一化; axis=1: 按行归一化\n",
    "    plotmat = tmat.copy()\n",
    "    if axis == 0:\n",
    "        tdiv = np.sum(plotmat, axis=0)\n",
    "        tdiv[tdiv == 0] = 1\n",
    "        plotmat = plotmat / tdiv\n",
    "    else:\n",
    "        tdiv = np.sum(plotmat, axis=1).reshape((plotmat.shape[0], 1))\n",
    "        tdiv[tdiv == 0] = 1\n",
    "        plotmat = plotmat / tdiv\n",
    "\n",
    "    plotmat[np.isnan(plotmat)] = 0.0\n",
    "    if reverse_y:\n",
    "        sns.heatmap(plotmat[::-1,:], annot=True, cmap=\"Blues\", vmax=vmax)\n",
    "        plt.yticks(np.arange(plotmat.shape[0])+0.5, yticks[::-1])\n",
    "    plt.xticks(np.arange(plotmat.shape[0])+0.5, xticks)\n",
    "    \n",
    "def plot_change_mat(x, y, data):\n",
    "    tmat = np.zeros((5, 5))\n",
    "    for tv1, tv2 in zip(data[y], data[x]):\n",
    "        tmat[int(tv1)-1, int(tv2)-1] += 1\n",
    "    plot_heatmap(tmat, axis=0, reverse_y=True, vmax=0.7)\n",
    "    plt.xlabel(x)\n",
    "    plt.ylabel(y)\n",
    "    \n",
    "def compare(df1, df2, keys, plimit=1.0, fun=ttest_ind):\n",
    "    recs = []\n",
    "    anskeys = []\n",
    "    for tk in keys:\n",
    "        try:\n",
    "            tp = ifdiff(df1[tk], df2[tk], fun=fun)\n",
    "            recs.append((np.mean(df1[tk]), np.mean(df2[tk]), tp if tp <= plimit else np.nan))\n",
    "            anskeys.append(tk)\n",
    "        except:\n",
    "            pass\n",
    "    df_ans = pd.DataFrame.from_records(recs, columns=['left', 'right', 'p-value'], index=anskeys)\n",
    "    return df_ans\n",
    "\n",
    "def pcc(dlist1, dlist2):\n",
    "    idx = (pd.isnull(dlist1) == False) & (pd.isnull(dlist2) == False)\n",
    "    return pearsonr(dlist1[idx], dlist2[idx])\n",
    "\n",
    "def plot_scatter(x, y, data, color, reg=False):\n",
    "    tdf = data.copy().dropna()\n",
    "    plt.scatter(tdf[x], tdf[y], color=color)\n",
    "    if reg:\n",
    "        lr = LinearRegression()\n",
    "        x = np.array(tdf[x]).reshape((len(tdf), 1))\n",
    "        y = np.array(tdf[y]).reshape((len(tdf), 1)) \n",
    "        lr.fit(x, y)\n",
    "        plt.plot([[np.min(x)], [np.max(x)]], lr.predict([[np.min(x)], [np.max(x)]]), color=color)\n",
    "    \n",
    "def ctr(tdf):\n",
    "    return sum(tdf['ifclick']) / float(len(tdf))\n",
    "\n",
    "def is_outlier(points, threshold=3.5):\n",
    "    if len(points.shape) == 1:\n",
    "        points = points[:,None]\n",
    "\n",
    "    median = np.median(points, axis=0)\n",
    "\n",
    "    diff = np.sum((points - median)**2, axis=-1)\n",
    "    diff = np.sqrt(diff)\n",
    "    # 中位数绝对偏差\n",
    "    med_abs_deviation = np.median(diff)\n",
    "\n",
    "    # compute modified Z-score\n",
    "    # http://www.itl.nist.gov/div898/handbook/eda/section4/eda43.htm#Iglewicz\n",
    "    modified_z_score = 0.6745 * diff / med_abs_deviation\n",
    "\n",
    "    # return a mask for each outlier\n",
    "    return modified_z_score > threshold"
   ]
  },
  {
   "cell_type": "code",
   "execution_count": 3,
   "metadata": {},
   "outputs": [],
   "source": [
    "df_explanation = pd.read_pickle(\"df_explanation.pkl\")"
   ]
  },
  {
   "cell_type": "markdown",
   "metadata": {},
   "source": [
    "# Figure 1"
   ]
  },
  {
   "cell_type": "code",
   "execution_count": 36,
   "metadata": {},
   "outputs": [],
   "source": [
    "def plot_changes_by_type(data):\n",
    "    def yerr(X):\n",
    "        n = len(X)\n",
    "        X_mean = np.mean(X)\n",
    "        X_std = np.std(X)\n",
    "        X_se = X_std / np.sqrt(n)\n",
    "        return X_se\n",
    "       \n",
    "    click_intent = [np.mean(data['before_click_intent']), np.mean(data['after_click_intent'])]\n",
    "    c_err = [yerr(data['before_click_intent']), yerr(data['after_click_intent'])]\n",
    "    \n",
    "    watch_intent = [np.mean(data['before_watch_intent']), np.mean(data['after_watch_intent']), np.mean(data['exam_watch_intent'])]\n",
    "    w_err = [yerr(data['before_watch_intent']), yerr(data['after_watch_intent']), yerr(data['exam_watch_intent'])]\n",
    "    \n",
    "    expected_preference = [np.mean(data['before_expected_preference']), np.mean(data['after_expected_preference']), np.mean(data['exam_expected_preference'])]\n",
    "    e_err = [yerr(data['before_expected_preference']), yerr(data['after_expected_preference']), yerr(data['exam_expected_preference'])]\n",
    "    \n",
    "    plt.plot(click_intent, marker=\"^\", label=\"click intent\", color=\"#4882B8\")\n",
    "    plt.plot(watch_intent, marker=\"o\", label=\"watch intent\", color=\"#58A05D\")\n",
    "    plt.plot(expected_preference, marker=\"v\", label=\"expected pref.\", color=\"#D45E2B\")\n",
    "    plt.xticks([0,1,2], ['Before\\nexplanation', 'After\\nexplanation', 'After\\nexmaine'])\n",
    "    \n",
    "    plt.xlim(-0.5, 2.5)\n",
    "    maxy = max([max(click_intent), max(watch_intent), max(expected_preference)])\n",
    "    miny = min([min(click_intent), min(watch_intent), min(expected_preference)])\n",
    "    plt.ylim(miny-0.2, maxy + 0.2)\n",
    "    # plt.ylim(3.1, 4.0)\n",
    "    plt.legend(loc=4)\n",
    "    \n",
    "def plot_changes_by_type(data):\n",
    "    def yerr(X):\n",
    "        n = len(X)\n",
    "        X_mean = np.mean(X)\n",
    "        X_std = np.std(X)\n",
    "        X_se = X_std / np.sqrt(n)\n",
    "        return X_se\n",
    "       \n",
    "    click_intent = [np.mean(data['before_click_intent']), np.mean(data['after_click_intent'])]\n",
    "    c_err = [yerr(data['before_click_intent']), yerr(data['after_click_intent'])]\n",
    "    \n",
    "    watch_intent = [np.mean(data['before_watch_intent']), np.mean(data['after_watch_intent']), np.mean(data['exam_watch_intent'])]\n",
    "    w_err = [yerr(data['before_watch_intent']), yerr(data['after_watch_intent']), yerr(data['exam_watch_intent'])]\n",
    "    \n",
    "    expected_preference = [np.mean(data['before_expected_preference']), np.mean(data['after_expected_preference']), np.mean(data['exam_expected_preference'])]\n",
    "    e_err = [yerr(data['before_expected_preference']), yerr(data['after_expected_preference']), yerr(data['exam_expected_preference'])]\n",
    "    \n",
    "    plt.errorbar([0, 1], click_intent, yerr=c_err, marker=\"^\", label=\"Exam.\", color=\"#4882B8\")\n",
    "    plt.errorbar([0, 1], watch_intent[:2], yerr=w_err[:2], marker=\"o\", label=\"Watch.\", color=\"#58A05D\")\n",
    "    plt.errorbar([1, 2], watch_intent[1:], linestyle=\":\", yerr=w_err[1:], marker=\"o\", color=\"#58A05D\")\n",
    "    \n",
    "    plt.errorbar([0, 1], expected_preference[:2], yerr=e_err[:2], marker=\"v\", label=\"Pref.\", color=\"#D45E2B\")\n",
    "    plt.errorbar([1, 2], expected_preference[1:], linestyle=\":\", yerr=e_err[1:], marker=\"v\", color=\"#D45E2B\")\n",
    "    \n",
    "    plt.xticks([0,1,2], ['Pre\\nexplan.', 'Post\\nexplan.', 'Post\\nexamine'], fontsize=14)\n",
    "    \n",
    "    plt.xlim(-0.5, 2.5)\n",
    "    maxy = max([max(click_intent), max(watch_intent), max(expected_preference)])\n",
    "    miny = min([min(click_intent), min(watch_intent), min(expected_preference)])\n",
    "    plt.ylim(miny-0.2, maxy + 0.2)\n",
    "    # plt.ylim(3.1, 4.0)\n",
    "    plt.legend(loc=4, fontsize=12)"
   ]
  },
  {
   "cell_type": "code",
   "execution_count": 37,
   "metadata": {},
   "outputs": [
    {
     "name": "stderr",
     "output_type": "stream",
     "text": [
      "/home/luhongyu/anaconda3/lib/python3.7/site-packages/ipykernel_launcher.py:22: MatplotlibDeprecationWarning: savefig() got unexpected keyword argument \"quality\" which is no longer supported as of 3.3 and will become an error two minor releases later\n"
     ]
    },
    {
     "data": {
      "image/png": "[encoded data removed]",
      "text/plain": [
       "<Figure size 864x936 with 9 Axes>"
      ]
     },
     "metadata": {
      "needs_background": "light"
     },
     "output_type": "display_data"
    }
   ],
   "source": [
    "show_rows = ['pop', 'user', 'item', 'item_peer', 'attr_random', 'attr_nonpersonal', 'attr_personal', 'attr_peer', 'peer']\n",
    "sort_rows = [\"attr_nonpersonal\", 'attr_random', \"attr_personal\", 'pop', 'attr_peer', 'item', 'item_peer', 'user', 'peer']\n",
    "\n",
    "title_dic = {\n",
    "    \"pop\": \"Popularity-based\",\n",
    "    \"user\": \"User-based\",\n",
    "    \"item\": \"Item-based\",\n",
    "    \"item_peer\": \"Item-based (Peer)\",\n",
    "    \"attr_random\": \"Content (random)\",\n",
    "    \"attr_nonpersonal\": \"Content (non-personal)\",\n",
    "    \"attr_personal\": \"Content (personal)\",\n",
    "    \"attr_peer\": \"Content (peer)\",\n",
    "    \"peer\": \"Peer\"\n",
    "}\n",
    "plt.figure(figsize=(12, 13))\n",
    "for ti, tlabel in enumerate(sort_rows):\n",
    "    plt.subplot(3, 3, ti + 1)\n",
    "    plt.title(title_dic[tlabel], fontsize=16, y=0.9)\n",
    "    plot_changes_by_type(df_explanation[df_explanation['explanation_type'] == tlabel])\n",
    "    \n",
    "plt.subplots_adjust(hspace=0.27)\n",
    "plt.savefig(\"figures/phases.pdf\", dpi=600, quality=100, bbox_inches=\"tight\")"
   ]
  },
  {
   "cell_type": "code",
   "execution_count": 24,
   "metadata": {},
   "outputs": [
    {
     "data": {
      "text/plain": [
       "Index(['user_id', 'movie_id', 'explanation_type', 'explanation',\n",
       "       'before_click_intent', 'before_watch_intent',\n",
       "       'before_expected_preference', 'after_click_intent',\n",
       "       'after_watch_intent', 'after_expected_preference', 'exam_watch_intent',\n",
       "       'exam_expected_preference', 'persuasiveness', 'transparency',\n",
       "       'pre_knowledge', 'interest_accuracy', 'satisfaction', 'evaluate_reason',\n",
       "       'rouge-1', 'rouge-2', 'rouge-L', 'self_explanation', 'self_attributes',\n",
       "       'self_pos', 'self_normal', 'self_neg', 'peer_summary_ans',\n",
       "       'rank_result', 'rank_result_type', 'match_self', 'match_self_pos',\n",
       "       'match_self_neg', 'match_self_normal', 'change_click_intent',\n",
       "       'change_watch_intent', 'change_expected_preference', 'peer_id',\n",
       "       'movie_title', 'peer_similar_movie', 'peer_attributes', 'peer_pos',\n",
       "       'peer_normal', 'peer_neg', 'peer_preference', 'peer_explanation_short',\n",
       "       'peer_confidence', 'peer_explanation_long', 'peer_best_attribute',\n",
       "       'match_peer', 'match_peer_pos', 'match_peer_neg', 'match_peer_normal'],\n",
       "      dtype='object')"
      ]
     },
     "execution_count": 24,
     "metadata": {},
     "output_type": "execute_result"
    }
   ],
   "source": [
    "recs = [(\"before\", t) for t in df_explanation['before_click_intent']] + [(\"after\", t) for t in df_explanation['after_click_intent']]"
   ]
  },
  {
   "cell_type": "code",
   "execution_count": 33,
   "metadata": {},
   "outputs": [
    {
     "data": {
      "text/plain": [
       "F_onewayResult(statistic=5.8457747602566075, pvalue=0.015649531799598833)"
      ]
     },
     "execution_count": 33,
     "metadata": {},
     "output_type": "execute_result"
    }
   ],
   "source": [
    "f_oneway([t for t in df_explanation['before_click_intent'] if not pd.isnull(t)], [t for t in df_explanation['after_click_intent'] if not pd.isnull(t)])"
   ]
  },
  {
   "cell_type": "code",
   "execution_count": 34,
   "metadata": {},
   "outputs": [
    {
     "data": {
      "text/plain": [
       "F_onewayResult(statistic=147.71233144980815, pvalue=1.1587633468037463e-63)"
      ]
     },
     "execution_count": 34,
     "metadata": {},
     "output_type": "execute_result"
    }
   ],
   "source": [
    "f_oneway([t for t in df_explanation['before_watch_intent'] if not pd.isnull(t)], [t for t in df_explanation['after_watch_intent'] if not pd.isnull(t)], [t for t in df_explanation['exam_watch_intent'] if not pd.isnull(t)])"
   ]
  },
  {
   "cell_type": "code",
   "execution_count": 35,
   "metadata": {},
   "outputs": [
    {
     "data": {
      "text/plain": [
       "F_onewayResult(statistic=68.16374349610105, pvalue=4.561071377459891e-30)"
      ]
     },
     "execution_count": 35,
     "metadata": {},
     "output_type": "execute_result"
    }
   ],
   "source": [
    "f_oneway([t for t in df_explanation['before_expected_preference'] if not pd.isnull(t)], [t for t in df_explanation['after_expected_preference'] if not pd.isnull(t)], [t for t in df_explanation['exam_expected_preference'] if not pd.isnull(t)])"
   ]
  },
  {
   "cell_type": "markdown",
   "metadata": {},
   "source": [
    "# Table 1"
   ]
  },
  {
   "cell_type": "code",
   "execution_count": 6,
   "metadata": {},
   "outputs": [],
   "source": [
    "df_explanation['change2_watch_intent'] = df_explanation['exam_watch_intent'] - df_explanation['after_watch_intent']\n",
    "df_explanation['change2_expected_preference'] = df_explanation['exam_expected_preference'] - df_explanation['after_expected_preference']"
   ]
  },
  {
   "cell_type": "code",
   "execution_count": 6,
   "metadata": {},
   "outputs": [],
   "source": [
    "show_rows = ['pop', 'item', 'item_peer', 'attr_random', 'attr_nonpersonal', 'attr_personal', 'attr_peer', 'user', 'peer']\n",
    "\n",
    "col_objective = ['match_pos', 'match_neg', 'rouge-1', 'rouge-2', 'rouge-L']\n",
    "col_subjective = ['transparency', 'persuasiveness', 'pre_knowledge', 'interest_accuracy']\n",
    "col_change = ['change_click_intent', 'change_watch_intent', 'change_expected_preference']\n",
    "col_change2 = ['change2_watch_intent', 'change2_expected_preference']\n",
    "col_satisfaction = ['satisfaction']"
   ]
  },
  {
   "cell_type": "code",
   "execution_count": 11,
   "metadata": {},
   "outputs": [
    {
     "name": "stdout",
     "output_type": "stream",
     "text": [
      "\\begin{tabular}{lrrrrr}\n",
      "\\toprule\n",
      "{} &  change\\_click\\_intent &  change\\_watch\\_intent &  change\\_expected\\_preference &  change2\\_watch\\_intent &  change2\\_expected\\_preference \\\\\n",
      "explanation\\_type &                      &                      &                             &                       &                              \\\\\n",
      "\\midrule\n",
      "pop              &               0.0065 &               0.1226 &                     -0.0129 &                0.4032 &                       0.2710 \\\\\n",
      "item             &               0.2032 &               0.2806 &                      0.0452 &                0.2452 &                       0.2129 \\\\\n",
      "item\\_peer        &               0.3628 &               0.4956 &                      0.2389 &                0.0796 &                       0.1062 \\\\\n",
      "attr\\_random      &              -0.1774 &               0.0000 &                     -0.0677 &                0.5258 &                       0.3258 \\\\\n",
      "attr\\_nonpersonal &              -0.2774 &              -0.0903 &                     -0.1419 &                0.6161 &                       0.4000 \\\\\n",
      "attr\\_personal    &              -0.0259 &               0.0971 &                     -0.0388 &                0.4272 &                       0.2977 \\\\\n",
      "attr\\_peer        &               0.0842 &               0.2281 &                      0.0281 &                0.3193 &                       0.2526 \\\\\n",
      "user             &               0.3262 &               0.4086 &                      0.1900 &                0.1183 &                       0.0609 \\\\\n",
      "peer             &               0.3548 &               0.4677 &                      0.2871 &                0.0581 &                      -0.0290 \\\\\n",
      "\\bottomrule\n",
      "\\end{tabular}\n",
      "\n"
     ]
    }
   ],
   "source": [
    "print (df_explanation.groupby(\"explanation_type\").mean().loc[show_rows, col_change + col_change2].round(4).to_latex())"
   ]
  },
  {
   "cell_type": "markdown",
   "metadata": {},
   "source": [
    "# Table 2"
   ]
  },
  {
   "cell_type": "code",
   "execution_count": 7,
   "metadata": {},
   "outputs": [
    {
     "name": "stdout",
     "output_type": "stream",
     "text": [
      "\\begin{tabular}{lrrrrr}\n",
      "\\toprule\n",
      "{} &  transparency &  persuasiveness &  pre\\_knowledge &  interest\\_accuracy &  satisfaction \\\\\n",
      "explanation\\_type &               &                 &                &                    &               \\\\\n",
      "\\midrule\n",
      "pop              &        3.2265 &          3.2194 &         1.0903 &             3.3226 &        3.2419 \\\\\n",
      "item             &        3.2355 &          3.3409 &         1.0516 &             3.5290 &        3.1774 \\\\\n",
      "item\\_peer        &        3.6018 &          3.6549 &         1.1239 &             3.7522 &        3.4956 \\\\\n",
      "attr\\_random      &        2.7980 &          2.8091 &         1.1742 &             3.0548 &        2.9484 \\\\\n",
      "attr\\_nonpersonal &        2.6990 &          2.6839 &         1.1355 &             2.9645 &        2.8710 \\\\\n",
      "attr\\_personal    &        3.1650 &          3.1683 &         1.3819 &             3.5437 &        3.3107 \\\\\n",
      "attr\\_peer        &        3.2887 &          3.3018 &         1.3404 &             3.5579 &        3.3439 \\\\\n",
      "user             &        3.6022 &          3.6523 &         1.0538 &             3.7097 &        3.5771 \\\\\n",
      "peer             &        3.5903 &          3.7000 &         1.2065 &             3.7516 &        3.7871 \\\\\n",
      "\\bottomrule\n",
      "\\end{tabular}\n",
      "\n"
     ]
    }
   ],
   "source": [
    "print (df_explanation.groupby(\"explanation_type\").mean().loc[show_rows, col_subjective + col_satisfaction].round(4).to_latex())"
   ]
  },
  {
   "cell_type": "code",
   "execution_count": 9,
   "metadata": {},
   "outputs": [
    {
     "name": "stdout",
     "output_type": "stream",
     "text": [
      "\\begin{tabular}{lrrrrr}\n",
      "\\toprule\n",
      "{} &  transparency &  persuasiveness &  pre\\_knowledge &  interest\\_accuracy &  satisfaction \\\\\n",
      "explanation\\_type &               &                 &                &                    &               \\\\\n",
      "\\midrule\n",
      "pop              &        0.0584 &          0.0619 &         0.0163 &             0.0486 &        0.0508 \\\\\n",
      "item             &        0.0576 &          0.0557 &         0.0126 &             0.0449 &        0.0563 \\\\\n",
      "item\\_peer        &        0.0928 &          0.0841 &         0.0311 &             0.0739 &        0.0916 \\\\\n",
      "attr\\_random      &        0.0547 &          0.0557 &         0.0216 &             0.0488 &        0.0502 \\\\\n",
      "attr\\_nonpersonal &        0.0523 &          0.0536 &         0.0195 &             0.0474 &        0.0493 \\\\\n",
      "attr\\_personal    &        0.0499 &          0.0540 &         0.0277 &             0.0428 &        0.0468 \\\\\n",
      "attr\\_peer        &        0.0530 &          0.0551 &         0.0281 &             0.0473 &        0.0538 \\\\\n",
      "user             &        0.0526 &          0.0539 &         0.0135 &             0.0481 &        0.0515 \\\\\n",
      "peer             &        0.0506 &          0.0590 &         0.0230 &             0.0539 &        0.0561 \\\\\n",
      "\\bottomrule\n",
      "\\end{tabular}\n",
      "\n"
     ]
    }
   ],
   "source": [
    "from scipy.stats import sem\n",
    "print (df_explanation.groupby(\"explanation_type\").sem().loc[show_rows, col_subjective + col_satisfaction].round(4).to_latex())"
   ]
  },
  {
   "cell_type": "code",
   "execution_count": 21,
   "metadata": {},
   "outputs": [
    {
     "name": "stdout",
     "output_type": "stream",
     "text": [
      "item_peer item transparency True\n",
      "item_peer item transparency True\n",
      "item_peer item persuasiveness True\n",
      "item_peer item persuasiveness True\n",
      "item_peer item pre_knowledge True\n",
      "item_peer item pre_knowledge False\n",
      "item_peer item interest_accuracy True\n",
      "item_peer item interest_accuracy False\n",
      "item_peer item satisfaction True\n",
      "item_peer item satisfaction True\n",
      "attr_peer attr_personal transparency False\n",
      "attr_peer attr_personal transparency False\n",
      "attr_peer attr_personal persuasiveness False\n",
      "attr_peer attr_personal persuasiveness False\n",
      "attr_peer attr_personal pre_knowledge False\n",
      "attr_peer attr_personal pre_knowledge False\n",
      "attr_peer attr_personal interest_accuracy False\n",
      "attr_peer attr_personal interest_accuracy False\n",
      "attr_peer attr_personal satisfaction False\n",
      "attr_peer attr_personal satisfaction False\n",
      "peer user transparency False\n",
      "peer user transparency False\n",
      "peer user persuasiveness False\n",
      "peer user persuasiveness False\n",
      "peer item pre_knowledge True\n",
      "peer item pre_knowledge True\n",
      "peer attr_personal interest_accuracy True\n",
      "peer attr_personal interest_accuracy True\n",
      "peer user satisfaction True\n",
      "peer user satisfaction True\n"
     ]
    }
   ],
   "source": [
    "test_pairs = [\n",
    "    (\"item_peer\", \"item\", \"*\"),\n",
    "    (\"attr_peer\", \"attr_personal\", \"*\"),\n",
    "    (\"peer\", \"user\", 'transparency'),\n",
    "    (\"peer\", \"user\", 'persuasiveness'),\n",
    "    (\"peer\", \"item\", 'pre_knowledge'),\n",
    "    (\"peer\", \"attr_personal\", 'interest_accuracy'),\n",
    "    (\"peer\", \"user\", 'satisfaction'),\n",
    "]\n",
    "\n",
    "for a, b, t in test_pairs:\n",
    "    for c in ['transparency', 'persuasiveness', 'pre_knowledge', 'interest_accuracy', 'satisfaction']:\n",
    "        if t == c or t == \"*\":\n",
    "            print (a, b, c, ifdiff(df_explanation[df_explanation['explanation_type'] == a][c], df_explanation[df_explanation['explanation_type'] == b][c]) < 0.05)\n",
    "            print (a, b, c, ifdiff(df_explanation[df_explanation['explanation_type'] == a][c], df_explanation[df_explanation['explanation_type'] == b][c]) < 0.01)"
   ]
  },
  {
   "cell_type": "markdown",
   "metadata": {},
   "source": [
    "# Table 3 "
   ]
  },
  {
   "cell_type": "code",
   "execution_count": 14,
   "metadata": {},
   "outputs": [
    {
     "name": "stdout",
     "output_type": "stream",
     "text": [
      "\\begin{tabular}{lrrrr}\n",
      "\\toprule\n",
      "{} &  change\\_click\\_intent &  change\\_watch\\_intent &  change\\_expected\\_preference &  satisfaction \\\\\n",
      "\\midrule\n",
      "transparency      &               0.3763 &               0.3884 &                      0.4005 &        0.6127 \\\\\n",
      "persuasiveness    &               0.5390 &               0.5221 &                      0.4864 &        0.7086 \\\\\n",
      "pre\\_knowledge     &              -0.0242 &              -0.0186 &                      0.0071 &        0.1463 \\\\\n",
      "interest\\_accuracy &               0.4346 &               0.4326 &                      0.4412 &        0.7796 \\\\\n",
      "\\bottomrule\n",
      "\\end{tabular}\n",
      "\n"
     ]
    }
   ],
   "source": [
    "print (df_explanation.corr().loc[col_subjective, col_change + col_satisfaction].round(4).to_latex())"
   ]
  },
  {
   "cell_type": "code",
   "execution_count": 13,
   "metadata": {},
   "outputs": [
    {
     "data": {
      "text/html": [
       "<div>\n",
       "<style scoped>\n",
       "    .dataframe tbody tr th:only-of-type {\n",
       "        vertical-align: middle;\n",
       "    }\n",
       "\n",
       "    .dataframe tbody tr th {\n",
       "        vertical-align: top;\n",
       "    }\n",
       "\n",
       "    .dataframe thead th {\n",
       "        text-align: right;\n",
       "    }\n",
       "</style>\n",
       "<table border=\"1\" class=\"dataframe\">\n",
       "  <thead>\n",
       "    <tr style=\"text-align: right;\">\n",
       "      <th></th>\n",
       "      <th>change_click_intent</th>\n",
       "      <th>change_watch_intent</th>\n",
       "      <th>change_expected_preference</th>\n",
       "      <th>satisfaction</th>\n",
       "    </tr>\n",
       "  </thead>\n",
       "  <tbody>\n",
       "    <tr>\n",
       "      <th>transparency</th>\n",
       "      <td>0</td>\n",
       "      <td>0</td>\n",
       "      <td>0</td>\n",
       "      <td>0</td>\n",
       "    </tr>\n",
       "    <tr>\n",
       "      <th>persuasiveness</th>\n",
       "      <td>0</td>\n",
       "      <td>0</td>\n",
       "      <td>0</td>\n",
       "      <td>0</td>\n",
       "    </tr>\n",
       "    <tr>\n",
       "      <th>pre_knowledge</th>\n",
       "      <td>0.4609</td>\n",
       "      <td>0.1696</td>\n",
       "      <td>0.0275</td>\n",
       "      <td>0</td>\n",
       "    </tr>\n",
       "    <tr>\n",
       "      <th>interest_accuracy</th>\n",
       "      <td>0</td>\n",
       "      <td>0</td>\n",
       "      <td>0</td>\n",
       "      <td>0</td>\n",
       "    </tr>\n",
       "    <tr>\n",
       "      <th>satisfaction</th>\n",
       "      <td>0</td>\n",
       "      <td>0</td>\n",
       "      <td>0</td>\n",
       "      <td>0</td>\n",
       "    </tr>\n",
       "  </tbody>\n",
       "</table>\n",
       "</div>"
      ],
      "text/plain": [
       "                  change_click_intent change_watch_intent  \\\n",
       "transparency                        0                   0   \n",
       "persuasiveness                      0                   0   \n",
       "pre_knowledge                  0.4609              0.1696   \n",
       "interest_accuracy                   0                   0   \n",
       "satisfaction                        0                   0   \n",
       "\n",
       "                  change_expected_preference satisfaction  \n",
       "transparency                               0            0  \n",
       "persuasiveness                             0            0  \n",
       "pre_knowledge                         0.0275            0  \n",
       "interest_accuracy                          0            0  \n",
       "satisfaction                               0            0  "
      ]
     },
     "execution_count": 13,
     "metadata": {},
     "output_type": "execute_result"
    }
   ],
   "source": [
    "calculate_pvalues(df_explanation).loc[col_subjective + col_satisfaction, col_change + col_satisfaction].round(4)"
   ]
  },
  {
   "cell_type": "code",
   "execution_count": 42,
   "metadata": {},
   "outputs": [
    {
     "data": {
      "text/plain": [
       "49.02258064516129"
      ]
     },
     "execution_count": 42,
     "metadata": {},
     "output_type": "execute_result"
    }
   ],
   "source": [
    "np.mean(df_explanation[df_explanation['explanation_type'] == \"peer\"]['self_explanation'].map(lambda t: len(t)))"
   ]
  },
  {
   "cell_type": "code",
   "execution_count": 46,
   "metadata": {},
   "outputs": [],
   "source": [
    "def two_way_anova(label, key1, key2, data):\n",
    "    print (label)\n",
    "    formula = '{} ~ {} + {} + {}:{}'.format(label, key1, key2, key1, key2)\n",
    "    model = ols(formula, data).fit()\n",
    "    aov_table = anova_lm(model, typ=2)\n",
    "    return aov_table"
   ]
  },
  {
   "cell_type": "code",
   "execution_count": 49,
   "metadata": {},
   "outputs": [],
   "source": [
    "formula = '{} ~ {} + {} + {} + {}'.format(*(col_satisfaction+col_subjective))\n",
    "model = ols(formula, df_explanation).fit()\n",
    "aov_table = anova_lm(model, typ=2)"
   ]
  },
  {
   "cell_type": "code",
   "execution_count": 50,
   "metadata": {},
   "outputs": [
    {
     "data": {
      "text/html": [
       "<div>\n",
       "<style scoped>\n",
       "    .dataframe tbody tr th:only-of-type {\n",
       "        vertical-align: middle;\n",
       "    }\n",
       "\n",
       "    .dataframe tbody tr th {\n",
       "        vertical-align: top;\n",
       "    }\n",
       "\n",
       "    .dataframe thead th {\n",
       "        text-align: right;\n",
       "    }\n",
       "</style>\n",
       "<table border=\"1\" class=\"dataframe\">\n",
       "  <thead>\n",
       "    <tr style=\"text-align: right;\">\n",
       "      <th></th>\n",
       "      <th>sum_sq</th>\n",
       "      <th>df</th>\n",
       "      <th>F</th>\n",
       "      <th>PR(&gt;F)</th>\n",
       "    </tr>\n",
       "  </thead>\n",
       "  <tbody>\n",
       "    <tr>\n",
       "      <th>transparency</th>\n",
       "      <td>14.450128</td>\n",
       "      <td>1.0</td>\n",
       "      <td>48.075051</td>\n",
       "      <td>5.191889e-12</td>\n",
       "    </tr>\n",
       "    <tr>\n",
       "      <th>persuasiveness</th>\n",
       "      <td>56.386906</td>\n",
       "      <td>1.0</td>\n",
       "      <td>187.597184</td>\n",
       "      <td>3.063809e-41</td>\n",
       "    </tr>\n",
       "    <tr>\n",
       "      <th>pre_knowledge</th>\n",
       "      <td>0.445296</td>\n",
       "      <td>1.0</td>\n",
       "      <td>1.481483</td>\n",
       "      <td>2.236566e-01</td>\n",
       "    </tr>\n",
       "    <tr>\n",
       "      <th>interest_accuracy</th>\n",
       "      <td>301.896207</td>\n",
       "      <td>1.0</td>\n",
       "      <td>1004.397702</td>\n",
       "      <td>7.746374e-186</td>\n",
       "    </tr>\n",
       "    <tr>\n",
       "      <th>Residual</th>\n",
       "      <td>758.048563</td>\n",
       "      <td>2522.0</td>\n",
       "      <td>NaN</td>\n",
       "      <td>NaN</td>\n",
       "    </tr>\n",
       "  </tbody>\n",
       "</table>\n",
       "</div>"
      ],
      "text/plain": [
       "                       sum_sq      df            F         PR(>F)\n",
       "transparency        14.450128     1.0    48.075051   5.191889e-12\n",
       "persuasiveness      56.386906     1.0   187.597184   3.063809e-41\n",
       "pre_knowledge        0.445296     1.0     1.481483   2.236566e-01\n",
       "interest_accuracy  301.896207     1.0  1004.397702  7.746374e-186\n",
       "Residual           758.048563  2522.0          NaN            NaN"
      ]
     },
     "execution_count": 50,
     "metadata": {},
     "output_type": "execute_result"
    }
   ],
   "source": [
    "aov_table"
   ]
  },
  {
   "cell_type": "code",
   "execution_count": null,
   "metadata": {},
   "outputs": [],
   "source": []
  }
 ],
 "metadata": {
  "kernelspec": {
   "display_name": "Python 3",
   "language": "python",
   "name": "python3"
  },
  "language_info": {
   "codemirror_mode": {
    "name": "ipython",
    "version": 3
   },
   "file_extension": ".py",
   "mimetype": "text/x-python",
   "name": "python",
   "nbconvert_exporter": "python",
   "pygments_lexer": "ipython3",
   "version": "3.7.3"
  }
 },
 "nbformat": 4,
 "nbformat_minor": 2
}
