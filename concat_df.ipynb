{
 "cells": [
  {
   "cell_type": "code",
   "execution_count": null,
   "metadata": {},
   "outputs": [],
   "source": [
    "\n",
    "import pandas as pd\n",
    "import os\n",
    "input_file_name = 'output/gpt-3.5-turbo_T0_None_correlation_results'\n",
    "input_file1 = input_file_name + '.csv'\n",
    "input_file2 = input_file_name + '_back.csv'\n",
    "\n",
    "output_file = input_file_name + '_all.csv'\n",
    "if not os.path.exists(output_file):\n",
    "    \n",
    "    df1 = pd.read_csv(input_file1,sep=\"\\t\")\n",
    "    df2 = pd.read_csv(input_file2,sep=\"\\t\")\n",
    "    df = pd.concat([df1, df2], ignore_index=True,axis=0)\n",
    "    \n",
    "    df.to_csv(output_file, index=False,sep=\"\\t\")\n",
    "    print(f'Concatenated data saved to {output_file}')\n",
    "else:\n",
    "    print(f'{output_file} already exists.')"
   ]
  }
 ],
 "metadata": {
  "language_info": {
   "name": "python"
  }
 },
 "nbformat": 4,
 "nbformat_minor": 2
}
