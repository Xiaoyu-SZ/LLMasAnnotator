{
 "cells": [
  {
   "cell_type": "code",
   "execution_count": null,
   "metadata": {},
   "outputs": [
    {
     "ename": "",
     "evalue": "",
     "output_type": "error",
     "traceback": [
      "\u001b[1;31m运行具有“happyrec”的单元格需要ipykernel包。\n",
      "\u001b[1;31m运行以下命令，将 \"ipykernel\" 安装到 Python 环境中。\n",
      "\u001b[1;31m命令: \"conda install -n happyrec ipykernel --update-deps --force-reinstall\""
     ]
    }
   ],
   "source": [
    "import pandas as pd\n",
    "import numpy as np\n",
    "MODEL_NAME = 'glm-4'\n",
    "FILE_NAME = f'output/fewshot_user_gpt-4_correlation_results.csv'\n",
    "\n",
    "df = pd.read_csv(FILE_NAME,sep='\\t')\n",
    "df['user_value'].fillna(3,inplace=True)\n",
    "for metric in ['persuasiveness', 'transparency', 'accuracy', 'satisfactory']:\n",
    "    user_values = df[df['metric'] == metric]['user_value']\n",
    "    llm_values = df[df['metric'] == metric]['llm_value']\n",
    "    # all_three_array = np.ones(len(user_values))*3\n",
    "    # all_three_array[0] = 4\n",
    "    correlation_coefficient = np.corrcoef(user_values, llm_values)[0, 1]\n",
    "    # mae = np.mean(np.abs(user_values -all_three_array))\n",
    "    # rmse = np.sqrt(np.mean((user_values - all_three_array)**2))\n",
    "    \n",
    "    print(f\"Metrics for {metric}:\")\n",
    "    print(f\"    Pearson correlation coefficient: {correlation_coefficient}\")\n",
    "    # print(f\"    MAE: {mae}\")\n",
    "    # print(f\"    RMSE: {rmse}\")\n",
    "    # print(f\"Correlation coefficient for {metric}: {correlation_coefficient}\")\n"
   ]
  }
 ],
 "metadata": {
  "kernelspec": {
   "display_name": "langchain",
   "language": "python",
   "name": "python3"
  },
  "language_info": {
   "codemirror_mode": {
    "name": "ipython",
    "version": 3
   },
   "file_extension": ".py",
   "mimetype": "text/x-python",
   "name": "python",
   "nbconvert_exporter": "python",
   "pygments_lexer": "ipython3",
   "version": "3.7.12"
  }
 },
 "nbformat": 4,
 "nbformat_minor": 2
}
