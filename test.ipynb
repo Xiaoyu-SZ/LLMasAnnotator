{
 "cells": [
  {
   "cell_type": "code",
   "execution_count": 8,
   "metadata": {},
   "outputs": [
    {
     "name": "stdout",
     "output_type": "stream",
     "text": [
      "[]\n"
     ]
    }
   ],
   "source": [
    "import re\n",
    "input_str = \"\"\"\n",
    " Try to immerse yourself in this user's experience and provide feedback. \n",
    "Consider how the user would feel about the explanatation if he/she were recommended the movie.\n",
    "Your insights are invaluable. Thank you!\n",
    "    \n",
    "    Movie:'卡萨布兰卡 Casablanca'\n",
    "    Explanation: '这是一部美国电影'\n",
    "\n",
    "    Make sure you summarise the **scores** you have given at the end of your answer.\n",
    "    Rating: \n",
    "     ASSISTANT: Persuasiveness: 3\n",
    "Transparency: 2\n",
    "Accuracy: 1\n",
    "Satisfactory: 2\n",
    "\n",
    "Overall, the explanation provided for the movie \"Casablanca\" is not very persuasive or transparent. The statement \"this is a American movie\" does not give any context or information about the movie's plot, characters, or themes, and it does not make a compelling case for why the user should watch it. Additionally, the statement is not accurate, as \"Casablanca\" is actually a classic Hollywood film from the 1940s, not a contemporary American movie.\n",
    "\n",
    "In terms of persuasiveness, the statement does not provide any compelling reasons for the user to watch the movie, and it does not highlight any of the film's strengths or unique qualities. It simply states that the movie is American, which may or may not be a selling point for the user.\n",
    "\n",
    "In terms of transparency, the statement is not very transparent because it does not provide any information about the movie's content or context. The user has no idea what the movie is about or why it is worth watching, and the statement does not provide any clues or hints about the movie's themes or plot.\n",
    "\n",
    "In terms of accuracy, the statement is not accurate because \"Casablanca\" is not a contemporary American movie. It is a classic Hollywood film from the 1940s, and it has a unique place in cinematic history.\n",
    "\n",
    "Overall, the user experience with this explanation is not very satisfactory because the statement does not provide any useful information or context about the movie. The user has no idea what the movie is about or why it is worth watching, and the statement does not make a compelling case for why the user should watch it.\n",
    "\"\"\"\n",
    "pattern = re.compile(r'(Persuasiveness:\\s\\d\\sTransparency:\\s\\d\\sAccuracy:\\s\\d\\sSatisfactory:\\s\\d\\s)', re.I)\n",
    "match = pattern.search(input_str)\n",
    "if match:\n",
    "        extracted_scores = match.group(1)\n",
    "        result =re.findall(r\"\\d+\",extracted_scores)\n",
    "        print(result)"
   ]
  }
 ],
 "metadata": {
  "kernelspec": {
   "display_name": "llama",
   "language": "python",
   "name": "python3"
  },
  "language_info": {
   "codemirror_mode": {
    "name": "ipython",
    "version": 3
   },
   "file_extension": ".py",
   "mimetype": "text/x-python",
   "name": "python",
   "nbconvert_exporter": "python",
   "pygments_lexer": "ipython3",
   "version": "3.9.7"
  }
 },
 "nbformat": 4,
 "nbformat_minor": 2
}
